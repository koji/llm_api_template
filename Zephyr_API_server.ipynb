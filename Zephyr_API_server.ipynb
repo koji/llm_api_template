{
  "nbformat": 4,
  "nbformat_minor": 0,
  "metadata": {
    "colab": {
      "provenance": [],
      "gpuType": "T4",
      "authorship_tag": "ABX9TyPc3q+mirsrnLSHBY1mulKd",
      "include_colab_link": true
    },
    "kernelspec": {
      "name": "python3",
      "display_name": "Python 3"
    },
    "language_info": {
      "name": "python"
    },
    "accelerator": "GPU"
  },
  "cells": [
    {
      "cell_type": "markdown",
      "metadata": {
        "id": "view-in-github",
        "colab_type": "text"
      },
      "source": [
        "<a href=\"https://colab.research.google.com/github/koji/llm_api_template/blob/main/Zephyr_API_server.ipynb\" target=\"_parent\"><img src=\"https://colab.research.google.com/assets/colab-badge.svg\" alt=\"Open In Colab\"/></a>"
      ]
    },
    {
      "cell_type": "code",
      "execution_count": null,
      "metadata": {
        "colab": {
          "base_uri": "https://localhost:8080/"
        },
        "id": "B8K7wHtMoS-n",
        "outputId": "e35d2572-829e-4d1a-a20b-a7280182ae23"
      },
      "outputs": [
        {
          "output_type": "stream",
          "name": "stdout",
          "text": [
            "Requirement already satisfied: llama-cpp-python in /usr/local/lib/python3.10/dist-packages (0.2.13)\n",
            "Requirement already satisfied: typing-extensions>=4.5.0 in /usr/local/lib/python3.10/dist-packages (from llama-cpp-python) (4.8.0)\n",
            "Requirement already satisfied: numpy>=1.20.0 in /usr/local/lib/python3.10/dist-packages (from llama-cpp-python) (1.23.5)\n",
            "Requirement already satisfied: diskcache>=5.6.1 in /usr/local/lib/python3.10/dist-packages (from llama-cpp-python) (5.6.3)\n",
            "Requirement already satisfied: llama-cpp-python[server] in /usr/local/lib/python3.10/dist-packages (0.2.13)\n",
            "Requirement already satisfied: typing-extensions>=4.5.0 in /usr/local/lib/python3.10/dist-packages (from llama-cpp-python[server]) (4.8.0)\n",
            "Requirement already satisfied: numpy>=1.20.0 in /usr/local/lib/python3.10/dist-packages (from llama-cpp-python[server]) (1.23.5)\n",
            "Requirement already satisfied: diskcache>=5.6.1 in /usr/local/lib/python3.10/dist-packages (from llama-cpp-python[server]) (5.6.3)\n",
            "Requirement already satisfied: uvicorn>=0.22.0 in /usr/local/lib/python3.10/dist-packages (from llama-cpp-python[server]) (0.24.0)\n",
            "Requirement already satisfied: fastapi>=0.100.0 in /usr/local/lib/python3.10/dist-packages (from llama-cpp-python[server]) (0.104.1)\n",
            "Requirement already satisfied: pydantic-settings>=2.0.1 in /usr/local/lib/python3.10/dist-packages (from llama-cpp-python[server]) (2.0.3)\n",
            "Requirement already satisfied: sse-starlette>=1.6.1 in /usr/local/lib/python3.10/dist-packages (from llama-cpp-python[server]) (1.6.5)\n",
            "Requirement already satisfied: starlette-context<0.4,>=0.3.6 in /usr/local/lib/python3.10/dist-packages (from llama-cpp-python[server]) (0.3.6)\n",
            "Requirement already satisfied: anyio<4.0.0,>=3.7.1 in /usr/local/lib/python3.10/dist-packages (from fastapi>=0.100.0->llama-cpp-python[server]) (3.7.1)\n",
            "Requirement already satisfied: pydantic!=1.8,!=1.8.1,!=2.0.0,!=2.0.1,!=2.1.0,<3.0.0,>=1.7.4 in /usr/local/lib/python3.10/dist-packages (from fastapi>=0.100.0->llama-cpp-python[server]) (2.4.2)\n",
            "Requirement already satisfied: starlette<0.28.0,>=0.27.0 in /usr/local/lib/python3.10/dist-packages (from fastapi>=0.100.0->llama-cpp-python[server]) (0.27.0)\n",
            "Requirement already satisfied: python-dotenv>=0.21.0 in /usr/local/lib/python3.10/dist-packages (from pydantic-settings>=2.0.1->llama-cpp-python[server]) (1.0.0)\n",
            "Requirement already satisfied: click>=7.0 in /usr/local/lib/python3.10/dist-packages (from uvicorn>=0.22.0->llama-cpp-python[server]) (8.1.7)\n",
            "Requirement already satisfied: h11>=0.8 in /usr/local/lib/python3.10/dist-packages (from uvicorn>=0.22.0->llama-cpp-python[server]) (0.14.0)\n",
            "Requirement already satisfied: idna>=2.8 in /usr/local/lib/python3.10/dist-packages (from anyio<4.0.0,>=3.7.1->fastapi>=0.100.0->llama-cpp-python[server]) (3.4)\n",
            "Requirement already satisfied: sniffio>=1.1 in /usr/local/lib/python3.10/dist-packages (from anyio<4.0.0,>=3.7.1->fastapi>=0.100.0->llama-cpp-python[server]) (1.3.0)\n",
            "Requirement already satisfied: exceptiongroup in /usr/local/lib/python3.10/dist-packages (from anyio<4.0.0,>=3.7.1->fastapi>=0.100.0->llama-cpp-python[server]) (1.1.3)\n",
            "Requirement already satisfied: annotated-types>=0.4.0 in /usr/local/lib/python3.10/dist-packages (from pydantic!=1.8,!=1.8.1,!=2.0.0,!=2.0.1,!=2.1.0,<3.0.0,>=1.7.4->fastapi>=0.100.0->llama-cpp-python[server]) (0.6.0)\n",
            "Requirement already satisfied: pydantic-core==2.10.1 in /usr/local/lib/python3.10/dist-packages (from pydantic!=1.8,!=1.8.1,!=2.0.0,!=2.0.1,!=2.1.0,<3.0.0,>=1.7.4->fastapi>=0.100.0->llama-cpp-python[server]) (2.10.1)\n"
          ]
        }
      ],
      "source": [
        "!pip install llama-cpp-python\n",
        "!pip install llama-cpp-python[server]"
      ]
    },
    {
      "cell_type": "code",
      "source": [
        "!wget https://huggingface.co/TheBloke/zephyr-7B-alpha-GGUF/resolve/main/zephyr-7b-alpha.Q5_K_M.gguf"
      ],
      "metadata": {
        "colab": {
          "base_uri": "https://localhost:8080/"
        },
        "id": "lw6FZgCcod80",
        "outputId": "df882311-2d16-4438-9901-1c1ef5d5b056"
      },
      "execution_count": null,
      "outputs": [
        {
          "output_type": "stream",
          "name": "stdout",
          "text": [
            "--2023-11-05 19:55:54--  https://huggingface.co/TheBloke/zephyr-7B-alpha-GGUF/resolve/main/zephyr-7b-alpha.Q5_K_M.gguf\n",
            "Resolving huggingface.co (huggingface.co)... 18.172.134.4, 18.172.134.88, 18.172.134.124, ...\n",
            "Connecting to huggingface.co (huggingface.co)|18.172.134.4|:443... connected.\n",
            "HTTP request sent, awaiting response... 302 Found\n",
            "Location: https://cdn-lfs.huggingface.co/repos/0e/2d/0e2d501c4480779936b52d3c1b7ca03a7da8fc6d121b0a1612099ee6100c0566/2ad371d1aeca1ddf6281ca4ee77aa20ace60df33cab71d3bb681e669001e176e?response-content-disposition=attachment%3B+filename*%3DUTF-8%27%27zephyr-7b-alpha.Q5_K_M.gguf%3B+filename%3D%22zephyr-7b-alpha.Q5_K_M.gguf%22%3B&Expires=1699473354&Policy=eyJTdGF0ZW1lbnQiOlt7IkNvbmRpdGlvbiI6eyJEYXRlTGVzc1RoYW4iOnsiQVdTOkVwb2NoVGltZSI6MTY5OTQ3MzM1NH19LCJSZXNvdXJjZSI6Imh0dHBzOi8vY2RuLWxmcy5odWdnaW5nZmFjZS5jby9yZXBvcy8wZS8yZC8wZTJkNTAxYzQ0ODA3Nzk5MzZiNTJkM2MxYjdjYTAzYTdkYThmYzZkMTIxYjBhMTYxMjA5OWVlNjEwMGMwNTY2LzJhZDM3MWQxYWVjYTFkZGY2MjgxY2E0ZWU3N2FhMjBhY2U2MGRmMzNjYWI3MWQzYmI2ODFlNjY5MDAxZTE3NmU%7EcmVzcG9uc2UtY29udGVudC1kaXNwb3NpdGlvbj0qIn1dfQ__&Signature=ioQJrE-S64JVuOJKm4N7E-eHxaCtwpUaDnsWMR76iphjsyM0vmb1SLZw-CGr7Po-tp5cSFsw9XDiI8MD6qbog6Uo5ICkuyryxNqjYot0nCLX7ISV99I-GXgbGD5qNPOe%7EM%7EVjq7Q9AS9UD7fA23RwaHXHLdIRTIPOZo2K19Wc%7Em6LlPvKXdh3dwpyMS4eFit0cI84iAGgydxykmEyMODY-Ft4B6hKry69XDy-TzRIPHR3M1PX2x%7EAgVlxlSFfRspBzRCuICgKaqBCr7vGB6DG86iCjKz-ehtg4buCLQggfTloff79zJyY4p%7E0pjt7-fva3yWEY3LkvYfjyGahmHpmw__&Key-Pair-Id=KVTP0A1DKRTAX [following]\n",
            "--2023-11-05 19:55:54--  https://cdn-lfs.huggingface.co/repos/0e/2d/0e2d501c4480779936b52d3c1b7ca03a7da8fc6d121b0a1612099ee6100c0566/2ad371d1aeca1ddf6281ca4ee77aa20ace60df33cab71d3bb681e669001e176e?response-content-disposition=attachment%3B+filename*%3DUTF-8%27%27zephyr-7b-alpha.Q5_K_M.gguf%3B+filename%3D%22zephyr-7b-alpha.Q5_K_M.gguf%22%3B&Expires=1699473354&Policy=eyJTdGF0ZW1lbnQiOlt7IkNvbmRpdGlvbiI6eyJEYXRlTGVzc1RoYW4iOnsiQVdTOkVwb2NoVGltZSI6MTY5OTQ3MzM1NH19LCJSZXNvdXJjZSI6Imh0dHBzOi8vY2RuLWxmcy5odWdnaW5nZmFjZS5jby9yZXBvcy8wZS8yZC8wZTJkNTAxYzQ0ODA3Nzk5MzZiNTJkM2MxYjdjYTAzYTdkYThmYzZkMTIxYjBhMTYxMjA5OWVlNjEwMGMwNTY2LzJhZDM3MWQxYWVjYTFkZGY2MjgxY2E0ZWU3N2FhMjBhY2U2MGRmMzNjYWI3MWQzYmI2ODFlNjY5MDAxZTE3NmU%7EcmVzcG9uc2UtY29udGVudC1kaXNwb3NpdGlvbj0qIn1dfQ__&Signature=ioQJrE-S64JVuOJKm4N7E-eHxaCtwpUaDnsWMR76iphjsyM0vmb1SLZw-CGr7Po-tp5cSFsw9XDiI8MD6qbog6Uo5ICkuyryxNqjYot0nCLX7ISV99I-GXgbGD5qNPOe%7EM%7EVjq7Q9AS9UD7fA23RwaHXHLdIRTIPOZo2K19Wc%7Em6LlPvKXdh3dwpyMS4eFit0cI84iAGgydxykmEyMODY-Ft4B6hKry69XDy-TzRIPHR3M1PX2x%7EAgVlxlSFfRspBzRCuICgKaqBCr7vGB6DG86iCjKz-ehtg4buCLQggfTloff79zJyY4p%7E0pjt7-fva3yWEY3LkvYfjyGahmHpmw__&Key-Pair-Id=KVTP0A1DKRTAX\n",
            "Resolving cdn-lfs.huggingface.co (cdn-lfs.huggingface.co)... 18.154.185.94, 18.154.185.26, 18.154.185.64, ...\n",
            "Connecting to cdn-lfs.huggingface.co (cdn-lfs.huggingface.co)|18.154.185.94|:443... connected.\n",
            "HTTP request sent, awaiting response... 200 OK\n",
            "Length: 5131409088 (4.8G) [binary/octet-stream]\n",
            "Saving to: ‘zephyr-7b-alpha.Q5_K_M.gguf.1’\n",
            "\n",
            "zephyr-7b-alpha.Q5_ 100%[===================>]   4.78G   239MB/s    in 24s     \n",
            "\n",
            "2023-11-05 19:56:19 (201 MB/s) - ‘zephyr-7b-alpha.Q5_K_M.gguf.1’ saved [5131409088/5131409088]\n",
            "\n"
          ]
        }
      ]
    },
    {
      "cell_type": "code",
      "source": [
        "from llama_cpp import Llama\n",
        "llm = Llama(model_path=\"zephyr-7b-alpha.Q5_K_M.gguf\")\n",
        "output = llm(\"Q: can you write a python script for fizz buzz? A: \", max_tokens=2048, stop=[\"Q:\", \"\\n\"], echo=True)\n",
        "print(output)"
      ],
      "metadata": {
        "colab": {
          "base_uri": "https://localhost:8080/"
        },
        "id": "XbZf-dr-opqF",
        "outputId": "29845ee4-1a94-47a7-b353-9a9b71c8dbb9"
      },
      "execution_count": null,
      "outputs": [
        {
          "output_type": "stream",
          "name": "stderr",
          "text": [
            "AVX = 1 | AVX2 = 1 | AVX512 = 0 | AVX512_VBMI = 0 | AVX512_VNNI = 0 | FMA = 1 | NEON = 0 | ARM_FMA = 0 | F16C = 1 | FP16_VA = 0 | WASM_SIMD = 0 | BLAS = 0 | SSE3 = 1 | SSSE3 = 1 | VSX = 0 | \n"
          ]
        },
        {
          "output_type": "stream",
          "name": "stdout",
          "text": [
            "{'id': 'cmpl-6b99cebd-adcd-4030-b835-071366d4bc9f', 'object': 'text_completion', 'created': 1699214181, 'model': 'zephyr-7b-alpha.Q5_K_M.gguf', 'choices': [{'text': 'Q: can you write a python script for fizz buzz? A: ', 'index': 0, 'logprobs': None, 'finish_reason': 'stop'}], 'usage': {'prompt_tokens': 17, 'completion_tokens': 1, 'total_tokens': 18}}\n"
          ]
        }
      ]
    },
    {
      "cell_type": "code",
      "source": [
        "!wget https://bin.equinox.io/c/4VmDzA7iaHb/ngrok-stable-linux-amd64.zip\n",
        "!unzip -o ngrok-stable-linux-amd64.zip"
      ],
      "metadata": {
        "colab": {
          "base_uri": "https://localhost:8080/"
        },
        "id": "SJJBufQOo8no",
        "outputId": "2a84c0f4-0129-4680-ec71-cda40ffcefcc"
      },
      "execution_count": null,
      "outputs": [
        {
          "output_type": "stream",
          "name": "stdout",
          "text": [
            "--2023-11-05 19:56:34--  https://bin.equinox.io/c/4VmDzA7iaHb/ngrok-stable-linux-amd64.zip\n",
            "Resolving bin.equinox.io (bin.equinox.io)... 54.237.133.81, 52.202.168.65, 18.205.222.128, ...\n",
            "Connecting to bin.equinox.io (bin.equinox.io)|54.237.133.81|:443... connected.\n",
            "HTTP request sent, awaiting response... 200 OK\n",
            "Length: 13921656 (13M) [application/octet-stream]\n",
            "Saving to: ‘ngrok-stable-linux-amd64.zip.1’\n",
            "\n",
            "ngrok-stable-linux- 100%[===================>]  13.28M  44.3MB/s    in 0.3s    \n",
            "\n",
            "2023-11-05 19:56:34 (44.3 MB/s) - ‘ngrok-stable-linux-amd64.zip.1’ saved [13921656/13921656]\n",
            "\n",
            "Archive:  ngrok-stable-linux-amd64.zip\n",
            "  inflating: ngrok                   \n"
          ]
        }
      ]
    },
    {
      "cell_type": "code",
      "source": [
        "!pip install pyngrok"
      ],
      "metadata": {
        "colab": {
          "base_uri": "https://localhost:8080/"
        },
        "id": "O9aUNktaBByb",
        "outputId": "fe55fa23-02e8-445f-a4b1-dc5262291d77"
      },
      "execution_count": null,
      "outputs": [
        {
          "output_type": "stream",
          "name": "stdout",
          "text": [
            "Requirement already satisfied: pyngrok in /usr/local/lib/python3.10/dist-packages (7.0.0)\n",
            "Requirement already satisfied: PyYAML in /usr/local/lib/python3.10/dist-packages (from pyngrok) (6.0.1)\n"
          ]
        }
      ]
    },
    {
      "cell_type": "code",
      "source": [
        "import os\n",
        "from google.colab import userdata\n",
        "from pyngrok import ngrok, conf\n",
        "os.environ[\"NGROK\"] = userdata.get(\"NGROK\")\n",
        "conf.get_default().auth_token = os.environ[\"NGROK\"]"
      ],
      "metadata": {
        "id": "Ti08Yp_YpCyH"
      },
      "execution_count": null,
      "outputs": []
    },
    {
      "cell_type": "code",
      "source": [
        "!python3 -m llama_cpp.server --model zephyr-7b-alpha.Q5_K_M.gguf --host 127.0.0.1 > server.log 2>&1 &"
      ],
      "metadata": {
        "id": "Chvw9TIqpF7Y"
      },
      "execution_count": null,
      "outputs": []
    },
    {
      "cell_type": "code",
      "source": [
        "from IPython import get_ipython\n",
        "get_ipython().system_raw('./ngrok http 8000 &')"
      ],
      "metadata": {
        "id": "Zv8oUQn1pLhP"
      },
      "execution_count": null,
      "outputs": []
    },
    {
      "cell_type": "code",
      "source": [
        "!curl -s http://localhost:4040/api/tunnels | python3 -c \"import sys, json; print(json.load(sys.stdin)['tunnels'][0]['public_url'])\""
      ],
      "metadata": {
        "colab": {
          "base_uri": "https://localhost:8080/"
        },
        "id": "i34CS6cypOJ4",
        "outputId": "f9273414-e586-4eae-b45a-c1a195f30377"
      },
      "execution_count": null,
      "outputs": [
        {
          "output_type": "stream",
          "name": "stdout",
          "text": [
            "https://6961-34-42-73-46.ngrok-free.app\n"
          ]
        }
      ]
    },
    {
      "cell_type": "code",
      "source": [
        "!pkill uvicorn\n",
        "!pkill ngrok"
      ],
      "metadata": {
        "id": "yR13tQ3CpP6M"
      },
      "execution_count": null,
      "outputs": []
    },
    {
      "cell_type": "code",
      "source": [],
      "metadata": {
        "id": "QRzLsGd-GkUq"
      },
      "execution_count": null,
      "outputs": []
    }
  ]
}